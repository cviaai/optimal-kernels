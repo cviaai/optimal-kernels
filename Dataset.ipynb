{
 "cells": [
  {
   "cell_type": "code",
   "execution_count": 1,
   "metadata": {},
   "outputs": [],
   "source": [
    "import numpy as np \n",
    "import cv2 "
   ]
  },
  {
   "cell_type": "code",
   "execution_count": 2,
   "metadata": {},
   "outputs": [],
   "source": [
    "width = 400\n",
    "height = 400"
   ]
  },
  {
   "cell_type": "markdown",
   "metadata": {},
   "source": [
    "# Dataset"
   ]
  },
  {
   "cell_type": "markdown",
   "metadata": {},
   "source": [
    "### Circles"
   ]
  },
  {
   "cell_type": "code",
   "execution_count": 3,
   "metadata": {},
   "outputs": [],
   "source": [
    "for j in range(30):\n",
    "    img_circle = np.ones((height, width, 3), np.uint8) * 255\n",
    "    \n",
    "    center = np.random.randint(100, 300, size =2)\n",
    "    max_radius = min(min(center[0], center[1]), min(width - center[0], height - center[1]))\n",
    "    radius = np.random.randint(50, max_radius)\n",
    "\n",
    "    cv2.circle(img_circle,(center[0],center[1]), radius, (0,0,0), -1)\n",
    "\n",
    "    np.save(f'./dataset/dataset_npy/circle_{j+1}.npy', img_circle)\n",
    "    cv2.imwrite(f'./dataset/dataset_jpg/circle_{j+1}.jpg', img_circle)"
   ]
  },
  {
   "cell_type": "code",
   "execution_count": 4,
   "metadata": {},
   "outputs": [],
   "source": [
    "n = 30\n",
    "for j in range(n):\n",
    "    \n",
    "    img_circle = np.ones((height, width, 3), np.uint8) * 255\n",
    "    \n",
    "    center = np.random.randint(100, 300, size =2)\n",
    "    max_radius = min(min(center[0], center[1]), min(width - center[0], height - center[1]))\n",
    "    radius = np.random.randint(50, max_radius)\n",
    "\n",
    "    cv2.circle(img_circle,(center[0],center[1]), radius, (0,0,0), -1)\n",
    "    \n",
    "    blurred_circle = cv2.GaussianBlur(img_circle, (51, 51), 0)\n",
    "\n",
    "    np.save(f'./dataset/dataset_npy/circle_{j+n}.npy', blurred_circle)\n",
    "    cv2.imwrite(f'./dataset/dataset_jpg/circle_{j+n}.jpg', blurred_circle)"
   ]
  },
  {
   "cell_type": "markdown",
   "metadata": {},
   "source": [
    "### Rectangles"
   ]
  },
  {
   "cell_type": "code",
   "execution_count": 5,
   "metadata": {},
   "outputs": [],
   "source": [
    "for j in range(30):\n",
    "    img_rectangle = np.ones((height, width, 3), np.uint8) * 255\n",
    "    \n",
    "    low_left_point = np.random.randint(0, 250, size =2)\n",
    "    \n",
    "    max_size = max(min(low_left_point[0], low_left_point[1]), \n",
    "                   min(width - low_left_point[0], height - low_left_point[1]))\n",
    "    \n",
    "    width_rectangle = np.random.randint(50, max(150,max_size), size=1)\n",
    "    height_rectangle = np.random.randint(50, max(150,max_size), size=1)\n",
    "\n",
    "    \n",
    "    upper_right_point = np.array([low_left_point[0] + width_rectangle, low_left_point[1] + height_rectangle])\n",
    "    upper_right_point = upper_right_point.flatten()\n",
    "\n",
    "    cv2.rectangle(img_rectangle,(low_left_point[0],low_left_point[1]),\n",
    "                  (upper_right_point[0],upper_right_point[1]),(0,0,0),-1)\n",
    "\n",
    "    np.save(f'./dataset/dataset_npy/rectangle_{j+1}.npy', img_rectangle)\n",
    "    cv2.imwrite(f'./dataset/dataset_jpg/rectangle_{j+1}.jpg', img_rectangle)"
   ]
  },
  {
   "cell_type": "code",
   "execution_count": 6,
   "metadata": {},
   "outputs": [],
   "source": [
    "n=30\n",
    "for j in range(n):\n",
    "    \n",
    "    img_rectangle = np.ones((height, width, 3), np.uint8) * 255\n",
    "    \n",
    "    low_left_point = np.random.randint(0, 250, size =2)\n",
    "    \n",
    "    max_size = max(min(low_left_point[0], low_left_point[1]), \n",
    "                   min(width - low_left_point[0], height - low_left_point[1]))\n",
    "    \n",
    "    width_rectangle = np.random.randint(50, max(150,max_size), size=1)\n",
    "    height_rectangle = np.random.randint(50, max(150,max_size), size=1)\n",
    "\n",
    "    \n",
    "    upper_right_point = np.array([low_left_point[0] + width_rectangle, low_left_point[1] + height_rectangle])\n",
    "    upper_right_point = upper_right_point.flatten()\n",
    "\n",
    "    cv2.rectangle(img_rectangle,(low_left_point[0],low_left_point[1]),\n",
    "                  (upper_right_point[0],upper_right_point[1]),(0,0,0),-1)\n",
    "    \n",
    "    blurred_rectangle = cv2.GaussianBlur(img_rectangle, (51, 51), 0)\n",
    "\n",
    "    np.save(f'./dataset/dataset_npy/rectangle_{j+n}.npy', blurred_rectangle)\n",
    "    cv2.imwrite(f'./dataset/dataset_jpg/rectangle_{j+n}.jpg', blurred_rectangle)"
   ]
  },
  {
   "cell_type": "markdown",
   "metadata": {},
   "source": [
    "### Triangles "
   ]
  },
  {
   "cell_type": "code",
   "execution_count": 7,
   "metadata": {},
   "outputs": [],
   "source": [
    "for j in range(30):\n",
    "    \n",
    "    img_tringle = np.ones((height, width, 3), np.uint8) * 255\n",
    "\n",
    "    pt1 = np.random.randint(50, 350, size=2)\n",
    "    pt1 = (pt1[0], pt1[1])\n",
    "\n",
    "    low_line = np.random.randint(50, 400 - pt1[0], size=1)\n",
    "    pt2 = ((pt1[0] + low_line)[0], pt1[1])\n",
    "\n",
    "    \n",
    "    if pt1[1] < 400 - pt1[1]:\n",
    "            \n",
    "        pt3_y = pt1[1] + np.random.randint(pt1[1], 400 - pt1[1], size=1)\n",
    "    else:\n",
    "        pt3_y = pt1[1] - np.random.randint(50, pt1[1], size=1)\n",
    "    pt3_x = np.random.randint(min(pt1[0], pt1[0] - 50), max(pt2[0], pt2[0]+50), size=1)\n",
    "    \n",
    "    pt3 = (pt3_x[0], pt3_y[0])\n",
    "\n",
    "    triangle = np.array( [pt1, pt2, pt3] )\n",
    "\n",
    "    cv2.drawContours(img_tringle, [triangle], 0, (0,0,0), -1)\n",
    "    \n",
    "    blurred_tringle = cv2.GaussianBlur(img_tringle, (51, 51), 0)\n",
    "\n",
    "    np.save(f'./dataset/dataset_npy/tringle_{j+1}.npy', blurred_tringle)\n",
    "    cv2.imwrite(f'./dataset/dataset_jpg/tringle_{j+1}.jpg', blurred_tringle)"
   ]
  },
  {
   "cell_type": "code",
   "execution_count": 8,
   "metadata": {},
   "outputs": [],
   "source": [
    "n = 30\n",
    "for j in range(n):\n",
    "    \n",
    "    img_tringle = np.ones((height, width, 3), np.uint8) * 255\n",
    "\n",
    "    pt1 = np.random.randint(50, 350, size=2)\n",
    "    pt1 = (pt1[0], pt1[1])\n",
    "\n",
    "    low_line = np.random.randint(50, 400 - pt1[0], size=1)\n",
    "    pt2 = ((pt1[0] + low_line)[0], pt1[1])\n",
    "\n",
    "    \n",
    "    if pt1[1] < 400 - pt1[1]:\n",
    "            \n",
    "        pt3_y = pt1[1] + np.random.randint(pt1[1], 400 - pt1[1], size=1)\n",
    "    else:\n",
    "        pt3_y = pt1[1] - np.random.randint(50, pt1[1], size=1)\n",
    "    pt3_x = np.random.randint(min(pt1[0], pt1[0] - 50), max(pt2[0], pt2[0]+50), size=1)\n",
    "    \n",
    "    pt3 = (pt3_x[0], pt3_y[0])\n",
    "\n",
    "    triangle = np.array( [pt1, pt2, pt3] )\n",
    "\n",
    "    cv2.drawContours(img_tringle, [triangle], 0, (0,0,0), -1)\n",
    "    \n",
    "    center = (width // 2, height // 2)\n",
    "    M = cv2.getRotationMatrix2D(center, 90, 1.0)\n",
    "    rotated_tringle = cv2.warpAffine(img_tringle, M, (width, height))\n",
    "\n",
    "    np.save(f'./dataset/dataset_npy/tringle_{j+n}.npy', rotated_tringle)\n",
    "    cv2.imwrite(f'./dataset/dataset_jpg/tringle_{j+n}.jpg', rotated_tringle)"
   ]
  }
 ],
 "metadata": {
  "kernelspec": {
   "display_name": "Python 3",
   "language": "python",
   "name": "python3"
  },
  "language_info": {
   "codemirror_mode": {
    "name": "ipython",
    "version": 3
   },
   "file_extension": ".py",
   "mimetype": "text/x-python",
   "name": "python",
   "nbconvert_exporter": "python",
   "pygments_lexer": "ipython3",
   "version": "3.8.3"
  }
 },
 "nbformat": 4,
 "nbformat_minor": 4
}
