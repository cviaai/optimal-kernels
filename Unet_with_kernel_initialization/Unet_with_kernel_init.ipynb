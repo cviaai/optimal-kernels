{
 "cells": [
  {
   "cell_type": "code",
   "execution_count": 1,
   "metadata": {},
   "outputs": [],
   "source": [
    "import numpy as np\n",
    "import matplotlib.pyplot as plt\n",
    "%matplotlib inline\n",
    "import os\n",
    "from sklearn.model_selection import train_test_split\n",
    "from pathlib import Path\n",
    "import torchvision\n",
    "import torch\n",
    "from torchvision import datasets, transforms, models\n",
    "from torch.utils.data import Dataset, DataLoader\n",
    "from PIL import Image\n",
    "import random\n",
    "import helper"
   ]
  },
  {
   "cell_type": "markdown",
   "metadata": {},
   "source": [
    "### Dataloader"
   ]
  },
  {
   "cell_type": "code",
   "execution_count": 2,
   "metadata": {},
   "outputs": [],
   "source": [
    "class MyDataset(Dataset):\n",
    "    def __init__(self, images_folder, masks_folder,\n",
    "                 img_transform=None, masks_transform=None):\n",
    "        super(Dataset, self).__init__()\n",
    "        \n",
    "        self.images_folder = images_folder\n",
    "        self.masks_folder = masks_folder\n",
    "\n",
    "        self.images_names = np.sort(os.listdir(images_folder))\n",
    "        self.masks_names = np.sort(os.listdir(masks_folder))\n",
    "        \n",
    "        self.img_transform = img_transform\n",
    "        self.masks_transform = masks_transform\n",
    "\n",
    "    def __len__(self):\n",
    "        return len(self.images_names)\n",
    "    \n",
    "    def __getitem__(self, idx):\n",
    "        item_image = np.load(os.path.join(self.images_folder,\n",
    "                                            self.images_names[idx]))\n",
    "        item_mask = np.load(os.path.join(self.masks_folder,\n",
    "                                              self.masks_names[idx]))\n",
    "        \n",
    "        SEED = np.random.randint(123456789)\n",
    "        if self.img_transform is not None:\n",
    "            random.seed(SEED)\n",
    "            item_image = self.img_transform(item_image)\n",
    "        if self.masks_transform is not None:  \n",
    "            random.seed(SEED)\n",
    "            item_mask = self.masks_transform(item_mask)\n",
    "\n",
    "        return item_image, item_mask"
   ]
  },
  {
   "cell_type": "code",
   "execution_count": 3,
   "metadata": {},
   "outputs": [],
   "source": [
    "trans = transforms.Compose([\n",
    "    transforms.ToTensor(),\n",
    "])\n",
    "train_set = MyDataset(images_folder = './train_val_dataset/train/images', \n",
    "                      masks_folder = './train_val_dataset/train/masks',\n",
    "                      img_transform = trans, masks_transform = trans)\n",
    "val_set = MyDataset(images_folder = './train_val_dataset/val/images', \n",
    "                      masks_folder = './train_val_dataset/val/masks',\n",
    "                      img_transform = trans, masks_transform = trans)"
   ]
  },
  {
   "cell_type": "code",
   "execution_count": 4,
   "metadata": {},
   "outputs": [
    {
     "data": {
      "text/plain": [
       "{'train': 60, 'val': 27}"
      ]
     },
     "execution_count": 4,
     "metadata": {},
     "output_type": "execute_result"
    }
   ],
   "source": [
    "image_datasets = {\n",
    "    'train': train_set, 'val': val_set\n",
    "}\n",
    "\n",
    "batch_size_train = 2\n",
    "batch_size_val = 2\n",
    "\n",
    "dataloaders = {\n",
    "    'train': DataLoader(train_set, batch_size=batch_size_train, shuffle=True, num_workers=0),\n",
    "    'val': DataLoader(val_set, batch_size=batch_size_val, shuffle=True, num_workers=0)\n",
    "}\n",
    "\n",
    "dataset_sizes = {\n",
    "    x: len(image_datasets[x]) for x in image_datasets.keys()\n",
    "}\n",
    "\n",
    "dataset_sizes"
   ]
  },
  {
   "cell_type": "code",
   "execution_count": 5,
   "metadata": {},
   "outputs": [
    {
     "name": "stdout",
     "output_type": "stream",
     "text": [
      "Image shape: torch.Size([2, 3, 400, 400])\n",
      "Mask shape: torch.Size([2, 3, 400, 400])\n",
      "0.0 1.0 0.935825 0.24506447\n",
      "0.0 1.0 0.020975 0.14330053\n"
     ]
    }
   ],
   "source": [
    "import torchvision.utils\n",
    "\n",
    "def reverse_transform(inp):\n",
    "    inp = inp.numpy().transpose((1, 2, 0))\n",
    "    inp = np.clip(inp, 0, 1)\n",
    "    inp = (inp * 255).astype(np.uint8)\n",
    "    \n",
    "    return inp\n",
    "\n",
    "# Get a batch of training data\n",
    "inputs, masks = next(iter(dataloaders['train']))\n",
    "\n",
    "print('Image shape:', inputs.shape)\n",
    "print('Mask shape:', masks.shape)\n",
    "for x in [inputs.numpy(), masks.numpy()]:\n",
    "    print(x.min(), x.max(), x.mean(), x.std())"
   ]
  },
  {
   "cell_type": "code",
   "execution_count": 6,
   "metadata": {},
   "outputs": [
    {
     "data": {
      "image/png": "[encoded data removed]",
      "text/plain": [
       "<Figure size 720x720 with 2 Axes>"
      ]
     },
     "metadata": {
      "needs_background": "light"
     },
     "output_type": "display_data"
    }
   ],
   "source": [
    "fig, axs = plt.subplots(ncols=2, sharex=True, figsize=(10, 10))\n",
    "axs[0].imshow(inputs[0][0], interpolation='none')\n",
    "axs[1].imshow(masks[0][0], interpolation='none')\n",
    "plt.show()"
   ]
  },
  {
   "cell_type": "code",
   "execution_count": 7,
   "metadata": {},
   "outputs": [],
   "source": [
    "from torchsummary import summary\n",
    "import torch\n",
    "import torch.nn as nn\n",
    "import unet\n",
    "\n",
    "device = torch.device('cuda' if torch.cuda.is_available() else 'cpu')\n",
    "\n",
    "# model = unet.UNet(3)\n",
    "# model = model.to(device)\n",
    "\n",
    "# summary(model, input_size=(3, 400, 400))"
   ]
  },
  {
   "cell_type": "code",
   "execution_count": 8,
   "metadata": {},
   "outputs": [],
   "source": [
    "logs_base_dir = './logs'\n",
    "os.makedirs(logs_base_dir, exist_ok=True)"
   ]
  },
  {
   "cell_type": "code",
   "execution_count": 9,
   "metadata": {},
   "outputs": [],
   "source": [
    "from collections import defaultdict\n",
    "import torch.nn.functional as F\n",
    "from loss import dice_loss\n",
    "\n",
    "def calc_loss(pred, target, metrics, bce_weight=0.5):\n",
    "    bce = F.binary_cross_entropy_with_logits(pred, target)\n",
    "        \n",
    "    pred = F.sigmoid(pred)\n",
    "    dice = dice_loss(pred, target)\n",
    "    \n",
    "    loss = bce * bce_weight + dice * (1 - bce_weight)\n",
    "    \n",
    "    metrics['bce'] += bce.data.cpu().numpy() * target.size(0)\n",
    "    metrics['dice'] += dice.data.cpu().numpy() * target.size(0)\n",
    "    metrics['loss'] += loss.data.cpu().numpy() * target.size(0)\n",
    "    \n",
    "    return loss\n",
    "\n",
    "def print_metrics(metrics, epoch_samples, phase):    \n",
    "    outputs = []\n",
    "    for k in metrics.keys():\n",
    "        outputs.append(\"{}: {:4f}\".format(k, metrics[k] / epoch_samples))\n",
    "        \n",
    "    print(\"{}: {}\".format(phase, \", \".join(outputs)))    \n",
    "\n",
    "def train_model(model, optimizer, scheduler, experiment_name, num_epochs=25):\n",
    "    best_model_wts = copy.deepcopy(model.state_dict())\n",
    "    best_loss = 1e10\n",
    "    \n",
    "    writer = SummaryWriter(f'{logs_base_dir}/{experiment_name}')\n",
    "\n",
    "    for epoch in range(num_epochs):\n",
    "        print('Epoch {}/{}'.format(epoch, num_epochs - 1))\n",
    "        print('-' * 10)\n",
    "        \n",
    "        since = time.time()\n",
    "\n",
    "        # Each epoch has a training and validation phase\n",
    "        for phase in ['train', 'val']:\n",
    "            if phase == 'train':\n",
    "                scheduler.step()\n",
    "                for param_group in optimizer.param_groups:\n",
    "                    print(\"LR\", param_group['lr'])\n",
    "                    \n",
    "                model.train()  # Set model to training mode\n",
    "            else:\n",
    "                model.eval()   # Set model to evaluate mode\n",
    "\n",
    "            metrics = defaultdict(float)\n",
    "            epoch_samples = 0\n",
    "            \n",
    "            for inputs, labels in dataloaders[phase]:\n",
    "                inputs = inputs.to(device)\n",
    "                labels = labels.to(device)    \n",
    "\n",
    "                # zero the parameter gradients\n",
    "                optimizer.zero_grad()\n",
    "\n",
    "                # forward\n",
    "                # track history if only in train\n",
    "                with torch.set_grad_enabled(phase == 'train'):\n",
    "                    outputs = model(inputs)\n",
    "                    loss = calc_loss(outputs, labels, metrics)\n",
    "\n",
    "                    # backward + optimize only if in training phase\n",
    "                    if phase == 'train':\n",
    "                        loss.backward()\n",
    "                        optimizer.step()\n",
    "\n",
    "                # statistics\n",
    "                epoch_samples += inputs.size(0)\n",
    "\n",
    "            print_metrics(metrics, epoch_samples, phase)\n",
    "            epoch_loss = metrics['loss'] / epoch_samples   \n",
    "            writer.add_scalar(f'Loss_{phase}', epoch_loss.item(), global_step=epoch)\n",
    "            \n",
    "            dsc_epoch = metrics['dice'] / epoch_samples\n",
    "            writer.add_scalar(f'DICE_{phase}', (1.-dsc_epoch.item()), global_step=epoch)\n",
    "\n",
    "            # deep copy the model\n",
    "            if phase == 'val' and epoch_loss < best_loss:\n",
    "                print(\"saving best model\")\n",
    "                best_loss = epoch_loss\n",
    "                best_model_wts = copy.deepcopy(model.state_dict())\n",
    "\n",
    "        time_elapsed = time.time() - since\n",
    "        print('{:.0f}m {:.0f}s'.format(time_elapsed // 60, time_elapsed % 60))\n",
    "    print('Best val loss: {:4f}'.format(best_loss))\n",
    "\n",
    "    # load best model weights\n",
    "    model.load_state_dict(best_model_wts)\n",
    "    return model"
   ]
  },
  {
   "cell_type": "code",
   "execution_count": 10,
   "metadata": {},
   "outputs": [],
   "source": [
    "import warnings\n",
    "warnings.filterwarnings('ignore')"
   ]
  },
  {
   "cell_type": "code",
   "execution_count": 11,
   "metadata": {},
   "outputs": [
    {
     "name": "stdout",
     "output_type": "stream",
     "text": [
      "cuda:0\n"
     ]
    }
   ],
   "source": [
    "import torch\n",
    "import torch.optim as optim\n",
    "from torch.optim import lr_scheduler\n",
    "import time\n",
    "import copy\n",
    "import unet_9x9\n",
    "from datetime import datetime\n",
    "from torch.utils.tensorboard import SummaryWriter\n",
    "\n",
    "device = torch.device(\"cuda:0\" if torch.cuda.is_available() else \"cpu\")\n",
    "print(device)\n",
    "\n",
    "num_class = 3\n",
    "\n",
    "model = unet_9x9.UNet(num_class).to(device)\n",
    "\n",
    "optimizer_ft = optim.Adam(model.parameters(), lr=1e-3)\n",
    "exp_lr_scheduler = lr_scheduler.StepLR(optimizer_ft, step_size=25, gamma=0.1)"
   ]
  },
  {
   "cell_type": "code",
   "execution_count": 12,
   "metadata": {},
   "outputs": [],
   "source": [
    "Model = 'Unet_9x9'\n",
    "\n",
    "# Options:\n",
    "#     - with_kernel\n",
    "#     - usual\n",
    "model_type = 'with_kernel_255'\n",
    "\n",
    "exp_name = datetime.now().isoformat(timespec='minutes') + '_' + Model + '_' + model_type   "
   ]
  },
  {
   "cell_type": "markdown",
   "metadata": {},
   "source": [
    "### Create kernel"
   ]
  },
  {
   "cell_type": "code",
   "execution_count": 13,
   "metadata": {},
   "outputs": [],
   "source": [
    "import numpy as np\n",
    "import pandas as pd\n",
    "import matplotlib.pyplot as plt\n",
    "import cv2\n",
    "import os\n",
    "from pyefd import elliptic_fourier_descriptors\n",
    "from pyEFD import plot_efd\n",
    "\n",
    "import io\n",
    "import cv2\n",
    "import numpy as np\n",
    "import matplotlib.pyplot as plt"
   ]
  },
  {
   "cell_type": "code",
   "execution_count": 14,
   "metadata": {},
   "outputs": [],
   "source": [
    "jpg_masks_folder = '/home/e_radionova/cig5_Research_optimal_kernels/Dataset_parametrezation/dataset_creation_simple_shapes/dataset_jpg'\n",
    "jpg_masks_names = np.sort(os.listdir(jpg_masks_folder))"
   ]
  },
  {
   "cell_type": "code",
   "execution_count": 15,
   "metadata": {},
   "outputs": [],
   "source": [
    "# Find contours for circle\n",
    "\n",
    "path = jpg_masks_folder + '/'\n",
    "contours_dict_jpg = dict.fromkeys(jpg_masks_names)\n",
    "\n",
    "for mask in contours_dict_jpg.keys():\n",
    "    img = cv2.imread(path + mask)\n",
    "    img = cv2.cvtColor(img, cv2.COLOR_BGR2RGB)\n",
    "    imgray = cv2.cvtColor(img, cv2.COLOR_BGR2GRAY)\n",
    "    ret,thresh = cv2.threshold(imgray, 127, 255, 0)\n",
    "    contours, hierarchy = cv2.findContours(thresh, cv2.RETR_TREE, cv2.CHAIN_APPROX_SIMPLE)\n",
    "    contours_new = np.vstack(contours).squeeze()\n",
    "    order = 10\n",
    "    coeffs = elliptic_fourier_descriptors(contours_new, order=order)\n",
    "    contours_dict_jpg[mask] = coeffs"
   ]
  },
  {
   "cell_type": "code",
   "execution_count": 16,
   "metadata": {},
   "outputs": [],
   "source": [
    "sum_contours = 0\n",
    "sum_index = 0\n",
    "for i, cont in enumerate(list(contours_dict_jpg.values())):\n",
    "    sum_contours += cont\n",
    "    sum_index += i\n",
    "    \n",
    "coeffs_mean = sum_contours / sum_index"
   ]
  },
  {
   "cell_type": "code",
   "execution_count": 17,
   "metadata": {},
   "outputs": [
    {
     "data": {
      "image/png": "[encoded data removed]",
      "text/plain": [
       "<Figure size 1080x576 with 10 Axes>"
      ]
     },
     "metadata": {
      "needs_background": "light"
     },
     "output_type": "display_data"
    }
   ],
   "source": [
    "plot_efd(coeffs_mean, n=10)"
   ]
  },
  {
   "cell_type": "code",
   "execution_count": 18,
   "metadata": {},
   "outputs": [],
   "source": [
    "locus = (0.0, 0.0)\n",
    "m=10\n",
    "xt = np.ones((m,)) * locus[0]\n",
    "yt = np.ones((m,)) * locus[1]\n",
    "\n",
    "t = np.linspace(0, 1.0, m)\n",
    "    \n",
    "for n in range(coeffs_mean.shape[0]):\n",
    "    xt += (coeffs_mean[n, 0] * np.cos(2 * (n + 1) * np.pi * t)) + (\n",
    "        coeffs_mean[n, 1] * np.sin(2 * (n + 1) * np.pi * t)\n",
    "    )\n",
    "    yt += (coeffs_mean[n, 2] * np.cos(2 * (n + 1) * np.pi * t)) + (\n",
    "        coeffs_mean[n, 3] * np.sin(2 * (n + 1) * np.pi * t)\n",
    "    )"
   ]
  },
  {
   "cell_type": "code",
   "execution_count": 19,
   "metadata": {},
   "outputs": [
    {
     "data": {
      "text/plain": [
       "(-1.7883123175185462,\n",
       " 2.3031615741668983,\n",
       " -2.2499774999192983,\n",
       " 2.625173975485726)"
      ]
     },
     "execution_count": 19,
     "metadata": {},
     "output_type": "execute_result"
    },
    {
     "data": {
      "image/png": "[encoded data removed]",
      "text/plain": [
       "<Figure size 72x72 with 1 Axes>"
      ]
     },
     "metadata": {
      "needs_background": "light"
     },
     "output_type": "display_data"
    }
   ],
   "source": [
    "fig = plt.figure(figsize=(1, 1))\n",
    "ax = fig.add_subplot(111)\n",
    "ax.plot(xt, yt, 'r', linewidth=3)\n",
    "ax.axis('off')"
   ]
  },
  {
   "cell_type": "markdown",
   "metadata": {},
   "source": [
    "### Transform from plot to numpy"
   ]
  },
  {
   "cell_type": "code",
   "execution_count": 20,
   "metadata": {},
   "outputs": [],
   "source": [
    "def get_img_from_fig(fig, dpi):\n",
    "    buf = io.BytesIO()\n",
    "    fig.savefig(buf, format=\"png\", dpi=dpi)\n",
    "    buf.seek(0)\n",
    "    img_arr = np.frombuffer(buf.getvalue(), dtype=np.uint8)\n",
    "    buf.close()\n",
    "    img = cv2.imdecode(img_arr, 1)\n",
    "    img = cv2.cvtColor(img, cv2.COLOR_BGR2RGB)\n",
    "\n",
    "    return img"
   ]
  },
  {
   "cell_type": "code",
   "execution_count": 21,
   "metadata": {},
   "outputs": [],
   "source": [
    "plot_img_np = get_img_from_fig(fig, dpi=9)"
   ]
  },
  {
   "cell_type": "code",
   "execution_count": 22,
   "metadata": {},
   "outputs": [
    {
     "data": {
      "text/plain": [
       "<matplotlib.image.AxesImage at 0x7f3d1c07fac0>"
      ]
     },
     "execution_count": 22,
     "metadata": {},
     "output_type": "execute_result"
    },
    {
     "data": {
      "image/png": "[encoded data removed]",
      "text/plain": [
       "<Figure size 432x288 with 1 Axes>"
      ]
     },
     "metadata": {
      "needs_background": "light"
     },
     "output_type": "display_data"
    }
   ],
   "source": [
    "plt.imshow(plot_img_np)"
   ]
  },
  {
   "cell_type": "code",
   "execution_count": 23,
   "metadata": {
    "scrolled": true
   },
   "outputs": [],
   "source": [
    "plot_img_np = plot_img_np.transpose(2,0,1)"
   ]
  },
  {
   "cell_type": "code",
   "execution_count": 24,
   "metadata": {},
   "outputs": [],
   "source": [
    "plot_img_np = plot_img_np / 255"
   ]
  },
  {
   "cell_type": "code",
   "execution_count": 25,
   "metadata": {},
   "outputs": [],
   "source": [
    "# plot_img_np = (~plot_img_np.astype(bool)).astype(int)"
   ]
  },
  {
   "cell_type": "code",
   "execution_count": 26,
   "metadata": {},
   "outputs": [],
   "source": [
    "with open('kernel.npy', 'wb') as f:\n",
    "    np.save(f, plot_img_np)"
   ]
  },
  {
   "cell_type": "markdown",
   "metadata": {},
   "source": [
    "### Kernel initialization"
   ]
  },
  {
   "cell_type": "code",
   "execution_count": 27,
   "metadata": {},
   "outputs": [],
   "source": [
    "shape_k = model._modules['dconv_down1'][0].weight.data.shape\n",
    "kernel = torch.zeros_like(torch.rand(shape_k))"
   ]
  },
  {
   "cell_type": "code",
   "execution_count": 28,
   "metadata": {},
   "outputs": [],
   "source": [
    "kernel_load = np.load('kernel.npy')\n",
    "kernel_new = torch.from_numpy(kernel_load)"
   ]
  },
  {
   "cell_type": "code",
   "execution_count": 29,
   "metadata": {},
   "outputs": [],
   "source": [
    "for i in range(kernel.shape[0]):\n",
    "    for j in range(kernel.shape[1]):\n",
    "        kernel[i][j] = kernel_new[1]"
   ]
  },
  {
   "cell_type": "code",
   "execution_count": 30,
   "metadata": {},
   "outputs": [],
   "source": [
    "model._modules['dconv_down1'][0].weight.data = kernel\n",
    "model._modules['dconv_down1'][0].weight.data = model._modules['dconv_down1'][0].weight.data.to(device)"
   ]
  },
  {
   "cell_type": "code",
   "execution_count": 31,
   "metadata": {},
   "outputs": [
    {
     "name": "stdout",
     "output_type": "stream",
     "text": [
      "Epoch 0/19\n",
      "----------\n",
      "LR 0.001\n",
      "train: bce: 1.497508, dice: 0.826293, loss: 1.161901\n",
      "val: bce: 0.349427, dice: 0.809533, loss: 0.579480\n",
      "saving best model\n",
      "0m 4s\n",
      "Epoch 1/19\n",
      "----------\n",
      "LR 0.001\n",
      "train: bce: 2.644837, dice: 0.763875, loss: 1.704356\n",
      "val: bce: 2.246944, dice: 0.791812, loss: 1.519378\n",
      "0m 4s\n",
      "Epoch 2/19\n",
      "----------\n",
      "LR 0.001\n",
      "train: bce: 5.751086, dice: 0.737756, loss: 3.244421\n",
      "val: bce: 2.438160, dice: 0.837820, loss: 1.637990\n",
      "0m 4s\n",
      "Epoch 3/19\n",
      "----------\n",
      "LR 0.001\n",
      "train: bce: 5.841405, dice: 0.591302, loss: 3.216353\n",
      "val: bce: 0.066085, dice: 0.008022, loss: 0.037054\n",
      "saving best model\n",
      "0m 4s\n",
      "Epoch 4/19\n",
      "----------\n",
      "LR 0.001\n",
      "train: bce: 0.060132, dice: 0.009656, loss: 0.034894\n",
      "val: bce: 0.005344, dice: 0.003669, loss: 0.004506\n",
      "saving best model\n",
      "0m 4s\n",
      "Epoch 5/19\n",
      "----------\n",
      "LR 0.001\n",
      "train: bce: 0.002187, dice: 0.001792, loss: 0.001990\n",
      "val: bce: 0.001061, dice: 0.001493, loss: 0.001277\n",
      "saving best model\n",
      "0m 4s\n",
      "Epoch 6/19\n",
      "----------\n",
      "LR 0.001\n",
      "train: bce: 0.001023, dice: 0.000946, loss: 0.000984\n",
      "val: bce: 0.000852, dice: 0.001090, loss: 0.000971\n",
      "saving best model\n",
      "0m 4s\n",
      "Epoch 7/19\n",
      "----------\n",
      "LR 0.001\n",
      "train: bce: 0.000868, dice: 0.000905, loss: 0.000886\n",
      "val: bce: 0.000945, dice: 0.001085, loss: 0.001015\n",
      "0m 4s\n",
      "Epoch 8/19\n",
      "----------\n",
      "LR 0.001\n",
      "train: bce: 0.000839, dice: 0.000930, loss: 0.000884\n",
      "val: bce: 0.001157, dice: 0.001279, loss: 0.001218\n",
      "0m 4s\n",
      "Epoch 9/19\n",
      "----------\n",
      "LR 0.001\n",
      "train: bce: 0.000879, dice: 0.001002, loss: 0.000941\n",
      "val: bce: 0.001024, dice: 0.001124, loss: 0.001074\n",
      "0m 4s\n",
      "Epoch 10/19\n",
      "----------\n",
      "LR 0.001\n",
      "train: bce: 0.000829, dice: 0.000914, loss: 0.000872\n",
      "val: bce: 0.000751, dice: 0.001019, loss: 0.000885\n",
      "saving best model\n",
      "0m 4s\n",
      "Epoch 11/19\n",
      "----------\n",
      "LR 0.001\n",
      "train: bce: 0.000768, dice: 0.000899, loss: 0.000833\n",
      "val: bce: 0.000699, dice: 0.000980, loss: 0.000839\n",
      "saving best model\n",
      "0m 4s\n",
      "Epoch 12/19\n",
      "----------\n",
      "LR 0.001\n",
      "train: bce: 0.000712, dice: 0.000840, loss: 0.000776\n",
      "val: bce: 0.000697, dice: 0.000935, loss: 0.000816\n",
      "saving best model\n",
      "0m 4s\n",
      "Epoch 13/19\n",
      "----------\n",
      "LR 0.001\n",
      "train: bce: 0.000716, dice: 0.000840, loss: 0.000778\n",
      "val: bce: 0.000667, dice: 0.001085, loss: 0.000876\n",
      "0m 4s\n",
      "Epoch 14/19\n",
      "----------\n",
      "LR 0.001\n",
      "train: bce: 0.000835, dice: 0.000962, loss: 0.000898\n",
      "val: bce: 0.000722, dice: 0.000874, loss: 0.000798\n",
      "saving best model\n",
      "0m 4s\n",
      "Epoch 15/19\n",
      "----------\n",
      "LR 0.001\n",
      "train: bce: 0.000676, dice: 0.000825, loss: 0.000751\n",
      "val: bce: 0.000872, dice: 0.001022, loss: 0.000947\n",
      "0m 4s\n",
      "Epoch 16/19\n",
      "----------\n",
      "LR 0.001\n",
      "train: bce: 0.000663, dice: 0.000794, loss: 0.000728\n",
      "val: bce: 0.000641, dice: 0.001050, loss: 0.000845\n",
      "0m 4s\n",
      "Epoch 17/19\n",
      "----------\n",
      "LR 0.001\n",
      "train: bce: 0.000623, dice: 0.000772, loss: 0.000697\n",
      "val: bce: 0.000607, dice: 0.000908, loss: 0.000758\n",
      "saving best model\n",
      "0m 4s\n",
      "Epoch 18/19\n",
      "----------\n",
      "LR 0.001\n",
      "train: bce: 0.000602, dice: 0.000785, loss: 0.000694\n",
      "val: bce: 0.000701, dice: 0.000900, loss: 0.000801\n",
      "0m 4s\n",
      "Epoch 19/19\n",
      "----------\n",
      "LR 0.001\n",
      "train: bce: 0.000627, dice: 0.000852, loss: 0.000739\n",
      "val: bce: 0.000779, dice: 0.000997, loss: 0.000888\n",
      "0m 4s\n",
      "Best val loss: 0.000758\n"
     ]
    }
   ],
   "source": [
    "model = train_model(model, optimizer_ft, exp_lr_scheduler, experiment_name=exp_name, num_epochs=20) "
   ]
  },
  {
   "cell_type": "code",
   "execution_count": null,
   "metadata": {},
   "outputs": [],
   "source": []
  },
  {
   "cell_type": "code",
   "execution_count": null,
   "metadata": {},
   "outputs": [],
   "source": []
  },
  {
   "cell_type": "code",
   "execution_count": null,
   "metadata": {},
   "outputs": [],
   "source": []
  },
  {
   "cell_type": "code",
   "execution_count": null,
   "metadata": {},
   "outputs": [],
   "source": []
  }
 ],
 "metadata": {
  "kernelspec": {
   "display_name": "Python 3",
   "language": "python",
   "name": "python3"
  },
  "language_info": {
   "codemirror_mode": {
    "name": "ipython",
    "version": 3
   },
   "file_extension": ".py",
   "mimetype": "text/x-python",
   "name": "python",
   "nbconvert_exporter": "python",
   "pygments_lexer": "ipython3",
   "version": "3.8.5"
  }
 },
 "nbformat": 4,
 "nbformat_minor": 4
}
