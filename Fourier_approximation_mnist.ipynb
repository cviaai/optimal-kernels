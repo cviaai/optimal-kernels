{
 "cells": [
  {
   "cell_type": "code",
   "execution_count": 14,
   "metadata": {},
   "outputs": [
    {
     "name": "stdout",
     "output_type": "stream",
     "text": [
      "Collecting pyefd\n",
      "  Downloading pyefd-1.5.1-py2.py3-none-any.whl (7.3 kB)\n",
      "Requirement already satisfied: numpy>=1.7.0 in /home/e_radionova/anaconda3/lib/python3.8/site-packages (from pyefd) (1.19.2)\n",
      "Installing collected packages: pyefd\n",
      "Successfully installed pyefd-1.5.1\n"
     ]
    }
   ],
   "source": [
    "! pip install pyefd"
   ]
  },
  {
   "cell_type": "code",
   "execution_count": 8,
   "metadata": {},
   "outputs": [],
   "source": [
    "import numpy as np\n",
    "import pandas as pd\n",
    "import matplotlib.pyplot as plt\n",
    "import cv2"
   ]
  },
  {
   "cell_type": "code",
   "execution_count": 9,
   "metadata": {},
   "outputs": [],
   "source": [
    "image = np.load('./MNIST/test_1_28_28.npy')"
   ]
  },
  {
   "cell_type": "code",
   "execution_count": 10,
   "metadata": {},
   "outputs": [],
   "source": [
    "img_example = image[1].reshape(28, 28)"
   ]
  },
  {
   "cell_type": "code",
   "execution_count": 11,
   "metadata": {
    "scrolled": false
   },
   "outputs": [
    {
     "data": {
      "text/plain": [
       "<matplotlib.image.AxesImage at 0x7ff8ce9ec1c0>"
      ]
     },
     "execution_count": 11,
     "metadata": {},
     "output_type": "execute_result"
    },
    {
     "data": {
      "image/png": "[encoded data removed]",
      "text/plain": [
       "<Figure size 432x288 with 1 Axes>"
      ]
     },
     "metadata": {
      "needs_background": "light"
     },
     "output_type": "display_data"
    }
   ],
   "source": [
    "plt.imshow(img_example, cmap='gray')"
   ]
  },
  {
   "cell_type": "code",
   "execution_count": 12,
   "metadata": {},
   "outputs": [
    {
     "data": {
      "text/plain": [
       "True"
      ]
     },
     "execution_count": 12,
     "metadata": {},
     "output_type": "execute_result"
    }
   ],
   "source": [
    "cv2.imwrite('./img_example.png', img_example)"
   ]
  },
  {
   "cell_type": "code",
   "execution_count": 13,
   "metadata": {},
   "outputs": [],
   "source": [
    "import numpy as np\n",
    "import cv2\n",
    "\n",
    "img = cv2.imread('./img_example.png')\n",
    "imgray = cv2.cvtColor(img,cv2.COLOR_BGR2GRAY)\n",
    "ret,thresh = cv2.threshold(imgray,127,255,0)\n",
    "contours, hierarchy = cv2.findContours(thresh,cv2.RETR_TREE,cv2.CHAIN_APPROX_SIMPLE)\n",
    "\n",
    "# cv2.drawContours(img, contours, -1, (0,255,0), 3)\n",
    "# cv2.imshow('img',img)"
   ]
  },
  {
   "cell_type": "code",
   "execution_count": 14,
   "metadata": {},
   "outputs": [],
   "source": [
    "contours = np.vstack(contours).squeeze()"
   ]
  },
  {
   "cell_type": "code",
   "execution_count": 15,
   "metadata": {},
   "outputs": [
    {
     "data": {
      "text/plain": [
       "array([[12,  3],\n",
       "       [11,  4],\n",
       "       [ 9,  4],\n",
       "       [ 8,  5],\n",
       "       [ 8,  7],\n",
       "       [ 9,  7],\n",
       "       [11,  5],\n",
       "       [14,  5],\n",
       "       [15,  6],\n",
       "       [15,  7],\n",
       "       [14,  8],\n",
       "       [14,  9],\n",
       "       [11, 12],\n",
       "       [11, 13],\n",
       "       [10, 14],\n",
       "       [10, 15],\n",
       "       [ 8, 17],\n",
       "       [ 8, 21],\n",
       "       [12, 21],\n",
       "       [13, 22],\n",
       "       [17, 22],\n",
       "       [18, 21],\n",
       "       [23, 21],\n",
       "       [24, 20],\n",
       "       [25, 20],\n",
       "       [25, 19],\n",
       "       [22, 19],\n",
       "       [21, 20],\n",
       "       [11, 20],\n",
       "       [10, 19],\n",
       "       [10, 18],\n",
       "       [12, 16],\n",
       "       [12, 15],\n",
       "       [13, 14],\n",
       "       [13, 13],\n",
       "       [15, 11],\n",
       "       [15, 10],\n",
       "       [16,  9],\n",
       "       [16,  7],\n",
       "       [17,  6],\n",
       "       [16,  5],\n",
       "       [16,  4],\n",
       "       [15,  3]], dtype=int32)"
      ]
     },
     "execution_count": 15,
     "metadata": {},
     "output_type": "execute_result"
    }
   ],
   "source": [
    "contours "
   ]
  },
  {
   "cell_type": "code",
   "execution_count": 16,
   "metadata": {},
   "outputs": [],
   "source": [
    "from pyefd import elliptic_fourier_descriptors\n",
    "coeffs = elliptic_fourier_descriptors(contours, order=10)"
   ]
  },
  {
   "cell_type": "code",
   "execution_count": 17,
   "metadata": {},
   "outputs": [
    {
     "data": {
      "text/plain": [
       "array([[-2.51029817e+00, -1.99619472e+00, -8.15280353e+00,\n",
       "        -3.08386404e+00],\n",
       "       [ 1.83142324e+00,  3.15668449e+00, -1.17544054e+00,\n",
       "        -1.67530506e+00],\n",
       "       [-6.35742428e-01, -3.13208780e+00, -2.08645716e-01,\n",
       "         1.17392877e+00],\n",
       "       [-2.24012683e-01, -1.01336387e+00, -5.67878688e-02,\n",
       "         2.72449417e-01],\n",
       "       [ 4.42126421e-01, -2.79919274e-01, -3.57873109e-01,\n",
       "         9.01151359e-02],\n",
       "       [ 1.87659967e-01, -1.56266157e-01, -4.34131372e-01,\n",
       "         1.86318231e-01],\n",
       "       [ 4.72075382e-01,  1.06055871e-01, -3.53646041e-01,\n",
       "        -1.28085232e-01],\n",
       "       [-1.36849635e-01, -1.24905203e-01, -1.18448672e-01,\n",
       "        -1.06515232e-01],\n",
       "       [-8.24236259e-02,  3.12617394e-02,  8.97696473e-02,\n",
       "        -1.11716365e-01],\n",
       "       [ 1.30024916e-01,  5.64809205e-03, -6.40056272e-02,\n",
       "        -1.94839810e-01]])"
      ]
     },
     "execution_count": 17,
     "metadata": {},
     "output_type": "execute_result"
    }
   ],
   "source": [
    "coeffs"
   ]
  },
  {
   "cell_type": "code",
   "execution_count": 18,
   "metadata": {},
   "outputs": [],
   "source": [
    "def plot_efd(coeffs, locus=(0.0, 0.0), image=None, contour=None, n=300):\n",
    "    \"\"\"Plot a ``[2 x (N / 2)]`` grid of successive truncations of the series.\n",
    "\n",
    "    .. note::\n",
    "\n",
    "        Requires `matplotlib <http://matplotlib.org/>`_!\n",
    "\n",
    "    :param numpy.ndarray coeffs: ``[N x 4]`` Fourier coefficient array.\n",
    "    :param list, tuple or numpy.ndarray locus:\n",
    "        The :math:`A_0` and :math:`C_0` elliptic locus in [#a]_ and [#b]_.\n",
    "    :param int n: Number of points to use for plotting of Fourier series.\n",
    "\n",
    "    \"\"\"\n",
    "    try:\n",
    "        import matplotlib.pyplot as plt\n",
    "    except ImportError:\n",
    "        print(\"Cannot plot: matplotlib was not installed.\")\n",
    "        return\n",
    "\n",
    "    N = coeffs.shape[0]\n",
    "    N_half = int(np.ceil(N / 2))\n",
    "    n_rows = 2\n",
    "\n",
    "    t = np.linspace(0, 1.0, n)\n",
    "    xt = np.ones((n,)) * locus[0]\n",
    "    yt = np.ones((n,)) * locus[1]\n",
    "\n",
    "    for n in range(coeffs.shape[0]):\n",
    "        yt += (coeffs[n, 0] * np.cos(2 * (n + 1) * np.pi * t)) + (\n",
    "            coeffs[n, 1] * np.sin(2 * (n + 1) * np.pi * t)\n",
    "        )\n",
    "        xt += (coeffs[n, 2] * np.cos(2 * (n + 1) * np.pi * t)) + (\n",
    "            coeffs[n, 3] * np.sin(2 * (n + 1) * np.pi * t)\n",
    "        )\n",
    "        ax = plt.subplot2grid((n_rows, N_half), (n // N_half, n % N_half))\n",
    "        ax.set_title(str(n + 1))\n",
    "        if contour is not None:\n",
    "            ax.plot(contour[:, 1], contour[:, 0], \"c--\", linewidth=2)\n",
    "        ax.plot(yt, xt, \"r\", linewidth=2)\n",
    "        if image is not None:\n",
    "            ax.imshow(image, plt.cm.gray)\n",
    "\n",
    "    plt.show()"
   ]
  },
  {
   "cell_type": "code",
   "execution_count": 19,
   "metadata": {},
   "outputs": [
    {
     "data": {
      "image/png": "[encoded data removed]",
      "text/plain": [
       "<Figure size 432x288 with 10 Axes>"
      ]
     },
     "metadata": {
      "needs_background": "light"
     },
     "output_type": "display_data"
    }
   ],
   "source": [
    "# from pyefd import plot_efd\n",
    "plot_efd(coeffs, locus=(img_example.shape[0]/2, img_example.shape[1]/2), image = img_example)"
   ]
  },
  {
   "cell_type": "code",
   "execution_count": null,
   "metadata": {},
   "outputs": [],
   "source": []
  },
  {
   "cell_type": "markdown",
   "metadata": {},
   "source": [
    "### Play with parameters:"
   ]
  },
  {
   "cell_type": "code",
   "execution_count": 135,
   "metadata": {},
   "outputs": [],
   "source": [
    "contour_2 = np.array(\n",
    "    [\n",
    "        [24.0, 13.0125],\n",
    "        [23.0125, 0.0],\n",
    "        [23.004188481675392, 15.0],\n",
    "        [23.0, 15.0125],\n",
    "        [22.0125, 16.0],\n",
    "        [22.00313725490196, 17.0],\n",
    "        [22.0, 17.004188481675392],\n",
    "        [21.0, 100.004188481675392],\n",
    "        [9.0125, 20.0],\n",
    "        [9.006299212598424, 21.0],\n",
    "        [9.006299212598424, 22.0],\n",
    "        [9.0, 22.006299212598424],\n",
    "        [8.9875, 22.0],\n",
    "        [8.0, 21.0125],\n",
    "        [7.996862745098039, 21.0],\n",
    "        [7.996862745098039, 20.0],\n",
    "        [8.0, 19.9875],\n",
    "        [8.9875, 19.0],\n",
    "        [8.9875, 18.0],\n",
    "        [8.993700787401576, 17.0],\n",
    "        [8.9875, 16.0],\n",
    "        [8.0, 15.0125],\n",
    "        [7.996862745098039, 15.0],\n",
    "        [7.9875, 14.0],\n",
    "        [22.0, 8.996862745098039],\n",
    "        [22.006299212598424, 9.0],\n",
    "        [23.0, 9.993700787401576],\n",
    "        [23.006299212598424, 10.0],\n",
    "        [24.0, 10.993700787401576],\n",
    "        [24.00313725490196, 11.0],\n",
    "        [24.00313725490196, 12.0],\n",
    "        [24.00313725490196, 13.0],\n",
    "        [24.0, 13.0125],\n",
    "    ]\n",
    ")"
   ]
  },
  {
   "cell_type": "code",
   "execution_count": 136,
   "metadata": {},
   "outputs": [],
   "source": [
    "from pyefd import elliptic_fourier_descriptors\n",
    "coeffs2 = elliptic_fourier_descriptors(contour_2, order=10)"
   ]
  },
  {
   "cell_type": "code",
   "execution_count": 137,
   "metadata": {},
   "outputs": [
    {
     "data": {
      "image/png": "[encoded data removed]",
      "text/plain": [
       "<Figure size 432x288 with 10 Axes>"
      ]
     },
     "metadata": {
      "needs_background": "light"
     },
     "output_type": "display_data"
    }
   ],
   "source": [
    "from pyefd import plot_efd\n",
    "plot_efd(coeffs2)"
   ]
  },
  {
   "cell_type": "markdown",
   "metadata": {},
   "source": [
    "### Reconstruct contour by coeffs"
   ]
  },
  {
   "cell_type": "code",
   "execution_count": 324,
   "metadata": {},
   "outputs": [
    {
     "data": {
      "text/plain": [
       "array([[-5.26016612e-01, -1.08320128e+01],\n",
       "       [-7.72536427e-01, -1.09215611e+01],\n",
       "       [-1.03208086e+00, -1.09803214e+01],\n",
       "       [-1.30235815e+00, -1.10063912e+01],\n",
       "       [-1.58078353e+00, -1.09985154e+01],\n",
       "       [-1.86451866e+00, -1.09561663e+01],\n",
       "       [-2.15051935e+00, -1.08796029e+01],\n",
       "       [-2.43559012e+00, -1.07699030e+01],\n",
       "       [-2.71644403e+00, -1.06289696e+01],\n",
       "       [-2.98976595e+00, -1.04595083e+01],\n",
       "       [-3.25227727e+00, -1.02649775e+01],\n",
       "       [-3.50080006e+00, -1.00495111e+01],\n",
       "       [-3.73231869e+00, -9.81781780e+00],\n",
       "       [-3.94403700e+00, -9.57505813e+00],\n",
       "       [-4.13342944e+00, -9.32670510e+00],\n",
       "       [-4.29828451e+00, -9.07839176e+00],\n",
       "       [-4.43673963e+00, -8.83575152e+00],\n",
       "       [-4.54730644e+00, -8.60425650e+00],\n",
       "       [-4.62888618e+00, -8.38905944e+00],\n",
       "       [-4.68077517e+00, -8.19484459e+00],\n",
       "       [-4.70266059e+00, -8.02569270e+00],\n",
       "       [-4.69460745e+00, -7.88496470e+00],\n",
       "       [-4.65703753e+00, -7.77520790e+00],\n",
       "       [-4.59070179e+00, -7.69808775e+00],\n",
       "       [-4.49664747e+00, -7.65434744e+00],\n",
       "       [-4.37618181e+00, -7.64379622e+00],\n",
       "       [-4.23083362e+00, -7.66532672e+00],\n",
       "       [-4.06231476e+00, -7.71696015e+00],\n",
       "       [-3.87248273e+00, -7.79591755e+00],\n",
       "       [-3.66330585e+00, -7.89871424e+00],\n",
       "       [-3.43683224e+00, -8.02127372e+00],\n",
       "       [-3.19516327e+00, -8.15905706e+00],\n",
       "       [-2.94043213e+00, -8.30720278e+00],\n",
       "       [-2.67478782e+00, -8.46067252e+00],\n",
       "       [-2.40038418e+00, -8.61439728e+00],\n",
       "       [-2.11937378e+00, -8.76341943e+00],\n",
       "       [-1.83390582e+00, -8.90302578e+00],\n",
       "       [-1.54612708e+00, -9.02886762e+00],\n",
       "       [-1.25818475e+00, -9.13706411e+00],\n",
       "       [-9.72230010e-01, -9.22428627e+00],\n",
       "       [-6.90420801e-01, -9.28781951e+00],\n",
       "       [-4.14922732e-01, -9.32560354e+00],\n",
       "       [-1.47906812e-01, -9.33624948e+00],\n",
       "       [ 1.08456942e-01, -9.31903462e+00],\n",
       "       [ 3.52010810e-01, -9.27387638e+00],\n",
       "       [ 5.80626044e-01, -9.20128742e+00],\n",
       "       [ 7.92225069e-01, -9.10231478e+00],\n",
       "       [ 9.84809002e-01, -8.97846608e+00],\n",
       "       [ 1.15648994e+00, -8.83162641e+00],\n",
       "       [ 1.30552711e+00, -8.66396949e+00],\n",
       "       [ 1.43036571e+00, -8.47786696e+00],\n",
       "       [ 1.52967689e+00, -8.27579904e+00],\n",
       "       [ 1.60239732e+00, -8.06027022e+00],\n",
       "       [ 1.64776643e+00, -7.83373248e+00],\n",
       "       [ 1.66535958e+00, -7.59851858e+00],\n",
       "       [ 1.65511527e+00, -7.35678723e+00],\n",
       "       [ 1.61735474e+00, -7.11048108e+00],\n",
       "       [ 1.55279253e+00, -6.86129823e+00],\n",
       "       [ 1.46253680e+00, -6.61067705e+00],\n",
       "       [ 1.34807852e+00, -6.35979356e+00],\n",
       "       [ 1.21126929e+00, -6.10957016e+00],\n",
       "       [ 1.05428768e+00, -5.86069399e+00],\n",
       "       [ 8.79594634e-01, -5.61364297e+00],\n",
       "       [ 6.89879001e-01, -5.36871724e+00],\n",
       "       [ 4.87994485e-01, -5.12607362e+00],\n",
       "       [ 2.76889910e-01, -4.88576092e+00],\n",
       "       [ 5.95349296e-02, -4.64775380e+00],\n",
       "       [-1.61156403e-01, -4.41198340e+00],\n",
       "       [-3.82401597e-01, -4.17836299e+00],\n",
       "       [-6.01622581e-01, -3.94680768e+00],\n",
       "       [-8.16512785e-01, -3.71724722e+00],\n",
       "       [-1.02509600e+00, -3.48963182e+00],\n",
       "       [-1.22577473e+00, -3.26393110e+00],\n",
       "       [-1.41736611e+00, -3.04012680e+00],\n",
       "       [-1.59912400e+00, -2.81820034e+00],\n",
       "       [-1.77074605e+00, -2.59811653e+00],\n",
       "       [-1.93236555e+00, -2.37980505e+00],\n",
       "       [-2.08452787e+00, -2.16314134e+00],\n",
       "       [-2.22815240e+00, -1.94792880e+00],\n",
       "       [-2.36448113e+00, -1.73388384e+00],\n",
       "       [-2.49501556e+00, -1.52062542e+00],\n",
       "       [-2.62144426e+00, -1.30767031e+00],\n",
       "       [-2.74556361e+00, -1.09443495e+00],\n",
       "       [-2.86919448e+00, -8.80244651e-01],\n",
       "       [-2.99409806e+00, -6.64350046e-01],\n",
       "       [-3.12189376e+00, -4.45950636e-01],\n",
       "       [-3.25398229e+00, -2.24224641e-01],\n",
       "       [-3.39147673e+00,  1.63597545e-03],\n",
       "       [-3.53514416e+00,  2.32386803e-01],\n",
       "       [-3.68535992e+00,  4.68690363e-01],\n",
       "       [-3.84207635e+00,  7.11075528e-01],\n",
       "       [-4.00480701e+00,  9.59899033e-01],\n",
       "       [-4.17262695e+00,  1.21531113e+00],\n",
       "       [-4.34418918e+00,  1.47722733e+00],\n",
       "       [-4.51775632e+00,  1.74530789e+00],\n",
       "       [-4.69124668e+00,  2.01894656e+00],\n",
       "       [-4.86229260e+00,  2.29726953e+00],\n",
       "       [-5.02830912e+00,  2.57914518e+00],\n",
       "       [-5.18657035e+00,  2.86320473e+00],\n",
       "       [-5.33429065e+00,  3.14787345e+00],\n",
       "       [-5.46870772e+00,  3.43141132e+00],\n",
       "       [-5.58716459e+00,  3.71196204e+00],\n",
       "       [-5.68718748e+00,  3.98760836e+00],\n",
       "       [-5.76655694e+00,  4.25643175e+00],\n",
       "       [-5.82336976e+00,  4.51657391e+00],\n",
       "       [-5.85608964e+00,  4.76629766e+00],\n",
       "       [-5.86358502e+00,  5.00404472e+00],\n",
       "       [-5.84515306e+00,  5.22848766e+00],\n",
       "       [-5.80052928e+00,  5.43857401e+00],\n",
       "       [-5.72988285e+00,  5.63356038e+00],\n",
       "       [-5.63379828e+00,  5.81303508e+00],\n",
       "       [-5.51324443e+00,  5.97692810e+00],\n",
       "       [-5.36953263e+00,  6.12550793e+00],\n",
       "       [-5.20426567e+00,  6.25936516e+00],\n",
       "       [-5.01928009e+00,  6.37938353e+00],\n",
       "       [-4.81658396e+00,  6.48669939e+00],\n",
       "       [-4.59829291e+00,  6.58265145e+00],\n",
       "       [-4.36656671e+00,  6.66872269e+00],\n",
       "       [-4.12354882e+00,  6.74647703e+00],\n",
       "       [-3.87131106e+00,  6.81749338e+00],\n",
       "       [-3.61180524e+00,  6.88329997e+00],\n",
       "       [-3.34682308e+00,  6.94531169e+00],\n",
       "       [-3.07796562e+00,  7.00477335e+00],\n",
       "       [-2.80662250e+00,  7.06271111e+00],\n",
       "       [-2.53396133e+00,  7.11989441e+00],\n",
       "       [-2.26092679e+00,  7.17680998e+00],\n",
       "       [-1.98824857e+00,  7.23364905e+00],\n",
       "       [-1.71645711e+00,  7.29030837e+00],\n",
       "       [-1.44590564e+00,  7.34640493e+00],\n",
       "       [-1.17679690e+00,  7.40130376e+00],\n",
       "       [-9.09212590e-01,  7.45415739e+00],\n",
       "       [-6.43143902e-01,  7.50395543e+00],\n",
       "       [-3.78521168e-01,  7.54958158e+00],\n",
       "       [-1.15241079e-01,  7.58987591e+00],\n",
       "       [ 1.46809990e-01,  7.62369913e+00],\n",
       "       [ 4.07737666e-01,  7.64999603e+00],\n",
       "       [ 6.67627062e-01,  7.66785519e+00],\n",
       "       [ 9.26536445e-01,  7.67656190e+00],\n",
       "       [ 1.18449710e+00,  7.67564197e+00],\n",
       "       [ 1.44151896e+00,  7.66489427e+00],\n",
       "       [ 1.69760132e+00,  7.64441017e+00],\n",
       "       [ 1.95274737e+00,  7.61457915e+00],\n",
       "       [ 2.20698140e+00,  7.57607991e+00],\n",
       "       [ 2.46036696e+00,  7.52985740e+00],\n",
       "       [ 2.71302435e+00,  7.47708658e+00],\n",
       "       [ 2.96514584e+00,  7.41912451e+00],\n",
       "       [ 3.21700689e+00,  7.35745289e+00],\n",
       "       [ 3.46897210e+00,  7.29361351e+00],\n",
       "       [ 3.72149452e+00,  7.22913965e+00],\n",
       "       [ 3.97510765e+00,  7.16548659e+00],\n",
       "       [ 4.23040960e+00,  7.10396438e+00],\n",
       "       [ 4.48803925e+00,  7.04567612e+00],\n",
       "       [ 4.74864507e+00,  6.99146485e+00],\n",
       "       [ 5.01284718e+00,  6.94187145e+00],\n",
       "       [ 5.28119411e+00,  6.89710601e+00],\n",
       "       [ 5.55411585e+00,  6.85703409e+00],\n",
       "       [ 5.83187511e+00,  6.82117891e+00],\n",
       "       [ 6.11451906e+00,  6.78873973e+00],\n",
       "       [ 6.40183384e+00,  6.75862592e+00],\n",
       "       [ 6.69330428e+00,  6.72950554e+00],\n",
       "       [ 6.98808104e+00,  6.69986657e+00],\n",
       "       [ 7.28495731e+00,  6.66808836e+00],\n",
       "       [ 7.58235700e+00,  6.63252021e+00],\n",
       "       [ 7.87833572e+00,  6.59156386e+00],\n",
       "       [ 8.17059556e+00,  6.54375628e+00],\n",
       "       [ 8.45651426e+00,  6.48784900e+00],\n",
       "       [ 8.73318839e+00,  6.42288049e+00],\n",
       "       [ 8.99749005e+00,  6.34823818e+00],\n",
       "       [ 9.24613567e+00,  6.26370722e+00],\n",
       "       [ 9.47576506e+00,  6.16950340e+00],\n",
       "       [ 9.68302838e+00,  6.06628866e+00],\n",
       "       [ 9.86467827e+00,  5.95516778e+00],\n",
       "       [ 1.00176639e+01,  5.83766632e+00],\n",
       "       [ 1.01392240e+01,  5.71569004e+00],\n",
       "       [ 1.02269747e+01,  5.59146719e+00],\n",
       "       [ 1.02789900e+01,  5.46747585e+00],\n",
       "       [ 1.02938707e+01,  5.34635887e+00],\n",
       "       [ 1.02707994e+01,  5.23082979e+00],\n",
       "       [ 1.02095791e+01,  5.12357350e+00],\n",
       "       [ 1.01106536e+01,  5.02714562e+00],\n",
       "       [ 9.97510866e+00,  4.94387465e+00],\n",
       "       [ 9.80465245e+00,  4.87577110e+00],\n",
       "       [ 9.60157709e+00,  4.82444723e+00],\n",
       "       [ 9.36870069e+00,  4.79105097e+00],\n",
       "       [ 9.10929228e+00,  4.77621679e+00],\n",
       "       [ 8.82698190e+00,  4.78003580e+00],\n",
       "       [ 8.52565846e+00,  4.80204634e+00],\n",
       "       [ 8.20935902e+00,  4.84124587e+00],\n",
       "       [ 7.88215309e+00,  4.89612356e+00],\n",
       "       [ 7.54802592e+00,  4.96471274e+00],\n",
       "       [ 7.21076490e+00,  5.04466090e+00],\n",
       "       [ 6.87385301e+00,  5.13331473e+00],\n",
       "       [ 6.54037304e+00,  5.22781668e+00],\n",
       "       [ 6.21292614e+00,  5.32520923e+00],\n",
       "       [ 5.89356735e+00,  5.42254264e+00],\n",
       "       [ 5.58376070e+00,  5.51698169e+00],\n",
       "       [ 5.28435522e+00,  5.60590724e+00],\n",
       "       [ 4.99558286e+00,  5.68700823e+00],\n",
       "       [ 4.71707833e+00,  5.75836052e+00],\n",
       "       [ 4.44792011e+00,  5.81848918e+00],\n",
       "       [ 4.18669103e+00,  5.86641174e+00],\n",
       "       [ 3.93155632e+00,  5.90166061e+00],\n",
       "       [ 3.68035614e+00,  5.92428377e+00],\n",
       "       [ 3.43070923e+00,  5.93482370e+00],\n",
       "       [ 3.18012390e+00,  5.93427546e+00],\n",
       "       [ 2.92611227e+00,  5.92402583e+00],\n",
       "       [ 2.66630364e+00,  5.90577585e+00],\n",
       "       [ 2.39855292e+00,  5.88145037e+00],\n",
       "       [ 2.12104011e+00,  5.85309820e+00],\n",
       "       [ 1.83235742e+00,  5.82278723e+00],\n",
       "       [ 1.53158094e+00,  5.79249898e+00],\n",
       "       [ 1.21832424e+00,  5.76402711e+00],\n",
       "       [ 8.92772385e-01,  5.73888410e+00],\n",
       "       [ 5.55695039e-01,  5.71822033e+00],\n",
       "       [ 2.08438535e-01,  5.70275878e+00],\n",
       "       [-1.47102649e-01,  5.69274848e+00],\n",
       "       [-5.08533770e-01,  5.68793843e+00],\n",
       "       [-8.73025133e-01,  5.68757350e+00],\n",
       "       [-1.23739229e+00,  5.69041229e+00],\n",
       "       [-1.59818812e+00,  5.69476646e+00],\n",
       "       [-1.95180332e+00,  5.69855991e+00],\n",
       "       [-2.29457169e+00,  5.69940530e+00],\n",
       "       [-2.62287645e+00,  5.69469491e+00],\n",
       "       [-2.93325374e+00,  5.68170198e+00],\n",
       "       [-3.22248993e+00,  5.65768830e+00],\n",
       "       [-3.48770932e+00,  5.62001374e+00],\n",
       "       [-3.72644955e+00,  5.56624288e+00],\n",
       "       [-3.93672225e+00,  5.49424466e+00],\n",
       "       [-4.11705740e+00,  5.40228049e+00],\n",
       "       [-4.26653022e+00,  5.28907756e+00],\n",
       "       [-4.38477024e+00,  5.15388401e+00],\n",
       "       [-4.47195276e+00,  4.99650378e+00],\n",
       "       [-4.52877375e+00,  4.81730969e+00],\n",
       "       [-4.55640947e+00,  4.61723433e+00],\n",
       "       [-4.55646307e+00,  4.39773889e+00],\n",
       "       [-4.53090024e+00,  4.16076160e+00],\n",
       "       [-4.48197703e+00,  3.90864763e+00],\n",
       "       [-4.41216237e+00,  3.64406363e+00],\n",
       "       [-4.32405858e+00,  3.36990023e+00],\n",
       "       [-4.22032252e+00,  3.08916684e+00],\n",
       "       [-4.10359043e+00,  2.80488275e+00],\n",
       "       [-3.97640871e+00,  2.51996928e+00],\n",
       "       [-3.84117298e+00,  2.23714728e+00],\n",
       "       [-3.70007702e+00,  1.95884406e+00],\n",
       "       [-3.55507287e+00,  1.68711360e+00],\n",
       "       [-3.40784289e+00,  1.42357302e+00],\n",
       "       [-3.25978390e+00,  1.16935787e+00],\n",
       "       [-3.11200320e+00,  9.25097722e-01],\n",
       "       [-2.96532571e+00,  6.90912848e-01],\n",
       "       [-2.82031110e+00,  4.66431786e-01],\n",
       "       [-2.67727939e+00,  2.50828710e-01],\n",
       "       [-2.53634331e+00,  4.28787014e-02],\n",
       "       [-2.39744548e+00, -1.58971717e-01],\n",
       "       [-2.26039843e+00, -3.56522095e-01],\n",
       "       [-2.12492553e+00, -5.51727368e-01],\n",
       "       [-1.99070082e+00, -7.46603037e-01],\n",
       "       [-1.85738625e+00, -9.43130444e-01],\n",
       "       [-1.72466470e+00, -1.14316627e+00],\n",
       "       [-1.59226783e+00, -1.34836022e+00],\n",
       "       [-1.45999782e+00, -1.56008429e+00],\n",
       "       [-1.32774267e+00, -1.77937675e+00],\n",
       "       [-1.19548496e+00, -2.00690292e+00],\n",
       "       [-1.06330432e+00, -2.24293429e+00],\n",
       "       [-9.31374323e-01, -2.48734665e+00],\n",
       "       [-7.99954502e-01, -2.73963686e+00],\n",
       "       [-6.69378635e-01, -2.99895730e+00],\n",
       "       [-5.40040530e-01, -3.26416600e+00],\n",
       "       [-4.12378523e-01, -3.53388988e+00],\n",
       "       [-2.86859983e-01, -3.80659776e+00],\n",
       "       [-1.63967001e-01, -4.08067974e+00],\n",
       "       [-4.41843057e-02, -4.35452865e+00],\n",
       "       [ 7.20097530e-02, -4.62661988e+00],\n",
       "       [ 1.84148555e-01, -4.89558534e+00],\n",
       "       [ 2.91778579e-01, -5.16027805e+00],\n",
       "       [ 3.94456749e-01, -5.41982406e+00],\n",
       "       [ 4.91744046e-01, -5.67365891e+00],\n",
       "       [ 5.83195888e-01, -5.92154690e+00],\n",
       "       [ 6.68350095e-01, -6.16358183e+00],\n",
       "       [ 7.46713412e-01, -6.40016901e+00],\n",
       "       [ 8.17747710e-01, -6.63198920e+00],\n",
       "       [ 8.80857113e-01, -6.85994585e+00],\n",
       "       [ 9.35377256e-01, -7.08509801e+00],\n",
       "       [ 9.80567870e-01, -7.30858190e+00],\n",
       "       [ 1.01560975e+00, -7.53152470e+00],\n",
       "       [ 1.03960700e+00, -7.75495465e+00],\n",
       "       [ 1.05159514e+00, -7.97971171e+00],\n",
       "       [ 1.05055551e+00, -8.20636309e+00],\n",
       "       [ 1.03543600e+00, -8.43512807e+00],\n",
       "       [ 1.00517774e+00, -8.66581579e+00],\n",
       "       [ 9.58747292e-01, -8.89777969e+00],\n",
       "       [ 8.95173328e-01, -9.12989120e+00],\n",
       "       [ 8.13586638e-01, -9.36053483e+00],\n",
       "       [ 7.13262061e-01, -9.58762569e+00],\n",
       "       [ 5.93660725e-01, -9.80864964e+00],\n",
       "       [ 4.54470917e-01, -1.00207254e+01],\n",
       "       [ 2.95645823e-01, -1.02206865e+01],\n",
       "       [ 1.17436476e-01, -1.04051810e+01],\n",
       "       [-7.95816786e-02, -1.05707851e+01],\n",
       "       [-2.94489976e-01, -1.07141265e+01],\n",
       "       [-5.26016612e-01, -1.08320128e+01]])"
      ]
     },
     "execution_count": 324,
     "metadata": {},
     "output_type": "execute_result"
    }
   ],
   "source": [
    "from pyefd import reconstruct_contour\n",
    "reconstruct_contour(coeffs)"
   ]
  },
  {
   "cell_type": "code",
   "execution_count": null,
   "metadata": {},
   "outputs": [],
   "source": []
  }
 ],
 "metadata": {
  "kernelspec": {
   "display_name": "Python 3",
   "language": "python",
   "name": "python3"
  },
  "language_info": {
   "codemirror_mode": {
    "name": "ipython",
    "version": 3
   },
   "file_extension": ".py",
   "mimetype": "text/x-python",
   "name": "python",
   "nbconvert_exporter": "python",
   "pygments_lexer": "ipython3",
   "version": "3.8.5"
  }
 },
 "nbformat": 4,
 "nbformat_minor": 4
}
